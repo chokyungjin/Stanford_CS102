{
 "cells": [
  {
   "cell_type": "markdown",
   "metadata": {},
   "source": [
    "### CS102: Unstructured Data - Images"
   ]
  },
  {
   "cell_type": "code",
   "execution_count": null,
   "metadata": {
    "scrolled": true
   },
   "outputs": [],
   "source": [
    "from PIL import Image\n",
    "from StringIO import StringIO\n",
    "from IPython.display import display\n",
    "import matplotlib.pyplot as plt\n",
    "%matplotlib inline\n",
    "from scipy.spatial import distance"
   ]
  },
  {
   "cell_type": "code",
   "execution_count": null,
   "metadata": {},
   "outputs": [],
   "source": [
    "# For compatibility of file access and directory listings\n",
    "# across multiple platforms\n",
    "import os\n",
    "IB = os.environ.get('INSTABASE_URI',None) is not None\n",
    "open = ib.open if IB else open\n",
    "def ib_listdir(path):\n",
    "    nodes = []\n",
    "    page_token = u''\n",
    "    while True:\n",
    "        res, _ = ib.list_dir(path, start_page_token=page_token)\n",
    "        nodes += [node['name'] for node in res['nodes']]\n",
    "        if res.get('has_more', False):\n",
    "            page_token = res.get('next_page_token', '')\n",
    "        else:\n",
    "            break\n",
    "    return nodes\n",
    "listdir = ib_listdir if IB else os.listdir"
   ]
  },
  {
   "cell_type": "markdown",
   "metadata": {},
   "source": [
    "#### Set up RGB triples for basic colors (easy to add more)"
   ]
  },
  {
   "cell_type": "code",
   "execution_count": null,
   "metadata": {},
   "outputs": [],
   "source": [
    "colordict = {\n",
    "    'red': (255,0,0),\n",
    "    'purple': (128,0,128),\n",
    "    'blue': (0,0,255),\n",
    "    'green': (0,255,0),\n",
    "    'yellow': (255,255,0),\n",
    "    'orange': (255,165,0),\n",
    "    'pink': (255,192,203),\n",
    "    'white': (255,255,255),\n",
    "    'gray': (128,128,128),\n",
    "    'black': (0,0,0) }"
   ]
  },
  {
   "cell_type": "markdown",
   "metadata": {},
   "source": [
    "#### Image dataset is directory of png or jpg files. Directory 'flags' contains 206 country flags. Filter on file (country) name to reduce dataset size."
   ]
  },
  {
   "cell_type": "code",
   "execution_count": null,
   "metadata": {},
   "outputs": [],
   "source": [
    "directory = 'flags'\n",
    "filterstring = 'nia' # Use '' for no filter\n",
    "allfiles = listdir(directory)\n",
    "files = [f for f in allfiles if filterstring in f]\n",
    "for filename in files: print filename"
   ]
  },
  {
   "cell_type": "markdown",
   "metadata": {},
   "source": [
    "### Find dominant color in images"
   ]
  },
  {
   "cell_type": "code",
   "execution_count": null,
   "metadata": {},
   "outputs": [],
   "source": [
    "for filename in files:\n",
    "    # Show filename and image\n",
    "    print(filename)\n",
    "    data = open(directory + '/' + filename).read()\n",
    "    image = Image.open(StringIO(data))\n",
    "    display(image)\n",
    "    # Find dominant color\n",
    "    # getcolors() parameter (2500) specifies up to 2500 different colors in image;\n",
    "    #   function returns 'None' if image has more than 2500 different colors\n",
    "    colors = image.getcolors(2500)\n",
    "#    print colors\n",
    "    if colors == None:\n",
    "        print 'Too many colors'\n",
    "    else:\n",
    "        highest = 0\n",
    "        domcolor = (-1,-1,-1)\n",
    "        for c in colors:\n",
    "            if c[0] > highest:\n",
    "                highest = c[0]\n",
    "                domcolor = c[1]\n",
    "        print 'Dominant color:'\n",
    "        # Normalize RGB values for imshow function\n",
    "        normcolor = [float(x)/255 for x in domcolor]\n",
    "        plt.imshow([[normcolor]])\n",
    "        plt.show()"
   ]
  },
  {
   "cell_type": "markdown",
   "metadata": {},
   "source": [
    "### Find closest basic color to dominant color"
   ]
  },
  {
   "cell_type": "code",
   "execution_count": null,
   "metadata": {},
   "outputs": [],
   "source": [
    "for filename in files:\n",
    "    # Show filename and image\n",
    "    print(filename)\n",
    "    data = open(directory + '/' + filename).read()\n",
    "    image = Image.open(StringIO(data))\n",
    "    display(image)\n",
    "    # Find dominant color\n",
    "    colors = image.getcolors(2500)\n",
    "    if colors == None:\n",
    "        print 'Too many colors'\n",
    "    else:\n",
    "        highest = 0\n",
    "        domcolor = (-1,-1,-1)\n",
    "        for c in colors:\n",
    "            if c[0] > highest:\n",
    "                highest = c[0]\n",
    "                domcolor = c[1]\n",
    "        # Closest basic color\n",
    "        # Remove alpha value if present (RGBA to RGB)\n",
    "        domcolor = domcolor[:3]\n",
    "        closest = ''\n",
    "        mindist = 1000\n",
    "        for c in colordict:\n",
    "            dist = distance.euclidean(domcolor,colordict[c])\n",
    "            if dist < mindist:\n",
    "                mindist = dist\n",
    "                closest = c\n",
    "        print 'Closest basic color:', closest, '\\n'"
   ]
  },
  {
   "cell_type": "markdown",
   "metadata": {},
   "source": [
    "### Find weighted average distance from each basic color"
   ]
  },
  {
   "cell_type": "code",
   "execution_count": null,
   "metadata": {},
   "outputs": [],
   "source": [
    "for filename in files:\n",
    "    # Show filename and image\n",
    "    print(filename)\n",
    "    data = open(directory + '/' + filename).read()\n",
    "    image = Image.open(StringIO(data))\n",
    "    display(image)\n",
    "    # Find dominant color\n",
    "    colors = image.getcolors(2500)\n",
    "    if colors == None:\n",
    "        print 'Too many colors'\n",
    "    else:\n",
    "        for b in colordict:\n",
    "            num = 0\n",
    "            total = 0\n",
    "            for c in colors:\n",
    "                # Remove alpha value if present (RGBA to RGB)\n",
    "                color = c[1][:3]\n",
    "                dist = distance.euclidean(color,colordict[b])\n",
    "                total += c[0] * dist\n",
    "                num += c[0]\n",
    "            wavg = total/num\n",
    "            print b, wavg\n",
    "        print '\\n'"
   ]
  }
 ],
 "metadata": {
  "kernelspec": {
   "display_name": "Python 2",
   "language": "python",
   "name": "python2"
  },
  "language_info": {
   "codemirror_mode": {
    "name": "ipython",
    "version": 2
   },
   "file_extension": ".py",
   "mimetype": "text/x-python",
   "name": "python",
   "nbconvert_exporter": "python",
   "pygments_lexer": "ipython2",
   "version": "2.7.14"
  }
 },
 "nbformat": 4,
 "nbformat_minor": 1
}
