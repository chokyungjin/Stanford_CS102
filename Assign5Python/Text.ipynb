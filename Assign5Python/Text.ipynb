{
 "cells": [
  {
   "cell_type": "markdown",
   "metadata": {},
   "source": [
    "### CS102: Unstructured Data - Text"
   ]
  },
  {
   "cell_type": "code",
   "execution_count": 1,
   "metadata": {
    "scrolled": true
   },
   "outputs": [
    {
     "name": "stderr",
     "output_type": "stream",
     "text": [
      "[nltk_data] Downloading package averaged_perceptron_tagger to\n",
      "[nltk_data]     /Users/chokyungjin/nltk_data...\n",
      "[nltk_data]   Package averaged_perceptron_tagger is already up-to-\n",
      "[nltk_data]       date!\n",
      "[nltk_data] Downloading package stopwords to\n",
      "[nltk_data]     /Users/chokyungjin/nltk_data...\n",
      "[nltk_data]   Package stopwords is already up-to-date!\n",
      "[nltk_data] Downloading package maxent_ne_chunker to\n",
      "[nltk_data]     /Users/chokyungjin/nltk_data...\n",
      "[nltk_data]   Package maxent_ne_chunker is already up-to-date!\n",
      "[nltk_data] Downloading package words to\n",
      "[nltk_data]     /Users/chokyungjin/nltk_data...\n",
      "[nltk_data]   Package words is already up-to-date!\n",
      "[nltk_data] Downloading package tagsets to\n",
      "[nltk_data]     /Users/chokyungjin/nltk_data...\n",
      "[nltk_data]   Package tagsets is already up-to-date!\n"
     ]
    }
   ],
   "source": [
    "import pandas as pd\n",
    "import re\n",
    "import nltk\n",
    "import string\n",
    "from nltk.corpus import stopwords\n",
    "nltk.download('averaged_perceptron_tagger')\n",
    "nltk.download('stopwords')\n",
    "nltk.download('maxent_ne_chunker')\n",
    "nltk.download('words')\n",
    "nltk.download('tagsets')\n",
    "from collections import Counter"
   ]
  },
  {
   "cell_type": "code",
   "execution_count": 2,
   "metadata": {},
   "outputs": [],
   "source": [
    "# For compatibility across multiple platforms\n",
    "import os\n",
    "IB = os.environ.get('INSTABASE_URI',None) is not None\n",
    "open = ib.open if IB else open"
   ]
  },
  {
   "cell_type": "markdown",
   "metadata": {},
   "source": [
    "### Dataset of wine descriptions"
   ]
  },
  {
   "cell_type": "markdown",
   "metadata": {},
   "source": [
    "*Read wines into dataframe, show sample*"
   ]
  },
  {
   "cell_type": "code",
   "execution_count": 5,
   "metadata": {},
   "outputs": [
    {
     "name": "stdout",
     "output_type": "stream",
     "text": [
      "200 wines\n"
     ]
    },
    {
     "data": {
      "text/html": [
       "<div>\n",
       "<style scoped>\n",
       "    .dataframe tbody tr th:only-of-type {\n",
       "        vertical-align: middle;\n",
       "    }\n",
       "\n",
       "    .dataframe tbody tr th {\n",
       "        vertical-align: top;\n",
       "    }\n",
       "\n",
       "    .dataframe thead th {\n",
       "        text-align: right;\n",
       "    }\n",
       "</style>\n",
       "<table border=\"1\" class=\"dataframe\">\n",
       "  <thead>\n",
       "    <tr style=\"text-align: right;\">\n",
       "      <th></th>\n",
       "      <th>country</th>\n",
       "      <th>winery</th>\n",
       "      <th>variety</th>\n",
       "      <th>points</th>\n",
       "      <th>price</th>\n",
       "      <th>description</th>\n",
       "    </tr>\n",
       "  </thead>\n",
       "  <tbody>\n",
       "    <tr>\n",
       "      <td>0</td>\n",
       "      <td>US</td>\n",
       "      <td>Heitz</td>\n",
       "      <td>Cabernet Sauvignon</td>\n",
       "      <td>96</td>\n",
       "      <td>235.0</td>\n",
       "      <td>This tremendous 100% varietal wine hails from ...</td>\n",
       "    </tr>\n",
       "    <tr>\n",
       "      <td>1</td>\n",
       "      <td>Spain</td>\n",
       "      <td>Bodega Carmen Rodr_guez</td>\n",
       "      <td>Tinta de Toro</td>\n",
       "      <td>96</td>\n",
       "      <td>110.0</td>\n",
       "      <td>Ripe aromas of fig, blackberry and cassis are ...</td>\n",
       "    </tr>\n",
       "    <tr>\n",
       "      <td>2</td>\n",
       "      <td>US</td>\n",
       "      <td>Macauley</td>\n",
       "      <td>Sauvignon Blanc</td>\n",
       "      <td>96</td>\n",
       "      <td>90.0</td>\n",
       "      <td>Mac Watson honors the memory of a wine once ma...</td>\n",
       "    </tr>\n",
       "    <tr>\n",
       "      <td>3</td>\n",
       "      <td>US</td>\n",
       "      <td>Ponzi</td>\n",
       "      <td>Pinot Noir</td>\n",
       "      <td>96</td>\n",
       "      <td>65.0</td>\n",
       "      <td>This spent 20 months in 30% new French oak, an...</td>\n",
       "    </tr>\n",
       "    <tr>\n",
       "      <td>4</td>\n",
       "      <td>France</td>\n",
       "      <td>Domaine de la Bgude</td>\n",
       "      <td>Provence red blend</td>\n",
       "      <td>95</td>\n",
       "      <td>66.0</td>\n",
       "      <td>This is the top wine from La Bgude, named afte...</td>\n",
       "    </tr>\n",
       "  </tbody>\n",
       "</table>\n",
       "</div>"
      ],
      "text/plain": [
       "  country                   winery             variety  points  price  \\\n",
       "0      US                    Heitz  Cabernet Sauvignon      96  235.0   \n",
       "1   Spain  Bodega Carmen Rodr_guez       Tinta de Toro      96  110.0   \n",
       "2      US                 Macauley     Sauvignon Blanc      96   90.0   \n",
       "3      US                    Ponzi          Pinot Noir      96   65.0   \n",
       "4  France      Domaine de la Bgude  Provence red blend      95   66.0   \n",
       "\n",
       "                                         description  \n",
       "0  This tremendous 100% varietal wine hails from ...  \n",
       "1  Ripe aromas of fig, blackberry and cassis are ...  \n",
       "2  Mac Watson honors the memory of a wine once ma...  \n",
       "3  This spent 20 months in 30% new French oak, an...  \n",
       "4  This is the top wine from La Bgude, named afte...  "
      ]
     },
     "execution_count": 5,
     "metadata": {},
     "output_type": "execute_result"
    }
   ],
   "source": [
    "f = open('Wines200.csv','r')\n",
    "wines = pd.read_csv(f)\n",
    "print (len(wines), 'wines')\n",
    "wines.head(5)"
   ]
  },
  {
   "cell_type": "markdown",
   "metadata": {},
   "source": [
    "*Show sample descriptions*"
   ]
  },
  {
   "cell_type": "code",
   "execution_count": 6,
   "metadata": {},
   "outputs": [
    {
     "name": "stdout",
     "output_type": "stream",
     "text": [
      "Ripe aromas of fig, blackberry and cassis are softened and sweetened by a slathering of oaky chocolate and vanilla. This is full, layered, intense and cushioned on the palate, with rich flavors of chocolaty black fruits and baking spices. A toasty, everlasting finish is heady but ideally balanced. Drink through 2023. \n",
      "\n",
      "This spent 20 months in 30% new French oak, and incorporates fruit from Ponzi's Aurora, Abetina and Madrona vineyards, among others. Aromatic, dense and toasty, it deftly blends aromas and flavors of toast, cigar box, blackberry, black cherry, coffee and graphite. Tannins are polished to a fine sheen, and frame a finish loaded with dark chocolate and espresso. Drink now through 2032.\n"
     ]
    }
   ],
   "source": [
    "text = wines.loc[1].description\n",
    "print (text, '\\n')\n",
    "text = wines.loc[3].description\n",
    "print (text)"
   ]
  },
  {
   "cell_type": "markdown",
   "metadata": {},
   "source": [
    "### Search: string-contains and regular expressions"
   ]
  },
  {
   "cell_type": "markdown",
   "metadata": {},
   "source": [
    "*Find wines with description containing 'chocolate'*"
   ]
  },
  {
   "cell_type": "code",
   "execution_count": 7,
   "metadata": {},
   "outputs": [
    {
     "data": {
      "text/html": [
       "<div>\n",
       "<style scoped>\n",
       "    .dataframe tbody tr th:only-of-type {\n",
       "        vertical-align: middle;\n",
       "    }\n",
       "\n",
       "    .dataframe tbody tr th {\n",
       "        vertical-align: top;\n",
       "    }\n",
       "\n",
       "    .dataframe thead th {\n",
       "        text-align: right;\n",
       "    }\n",
       "</style>\n",
       "<table border=\"1\" class=\"dataframe\">\n",
       "  <thead>\n",
       "    <tr style=\"text-align: right;\">\n",
       "      <th></th>\n",
       "      <th>country</th>\n",
       "      <th>variety</th>\n",
       "      <th>description</th>\n",
       "    </tr>\n",
       "  </thead>\n",
       "  <tbody>\n",
       "    <tr>\n",
       "      <td>1</td>\n",
       "      <td>Spain</td>\n",
       "      <td>Tinta de Toro</td>\n",
       "      <td>Ripe aromas of fig, blackberry and cassis are ...</td>\n",
       "    </tr>\n",
       "    <tr>\n",
       "      <td>3</td>\n",
       "      <td>US</td>\n",
       "      <td>Pinot Noir</td>\n",
       "      <td>This spent 20 months in 30% new French oak, an...</td>\n",
       "    </tr>\n",
       "    <tr>\n",
       "      <td>6</td>\n",
       "      <td>Spain</td>\n",
       "      <td>Tinta de Toro</td>\n",
       "      <td>Slightly gritty black-fruit aromas include a s...</td>\n",
       "    </tr>\n",
       "    <tr>\n",
       "      <td>12</td>\n",
       "      <td>US</td>\n",
       "      <td>Pinot Noir</td>\n",
       "      <td>A standout even in this terrific lineup of 201...</td>\n",
       "    </tr>\n",
       "    <tr>\n",
       "      <td>14</td>\n",
       "      <td>US</td>\n",
       "      <td>Pinot Noir</td>\n",
       "      <td>With its sophisticated mix of mineral, acid an...</td>\n",
       "    </tr>\n",
       "    <tr>\n",
       "      <td>16</td>\n",
       "      <td>US</td>\n",
       "      <td>Cabernet Sauvignon</td>\n",
       "      <td>This blockbuster, powerhouse of a wine suggest...</td>\n",
       "    </tr>\n",
       "    <tr>\n",
       "      <td>22</td>\n",
       "      <td>Spain</td>\n",
       "      <td>Tinta de Toro</td>\n",
       "      <td>Tarry blackberry and cheesy oak aromas are app...</td>\n",
       "    </tr>\n",
       "    <tr>\n",
       "      <td>27</td>\n",
       "      <td>US</td>\n",
       "      <td>Pinot Noir</td>\n",
       "      <td>Focused and dense, this intense wine captures ...</td>\n",
       "    </tr>\n",
       "    <tr>\n",
       "      <td>44</td>\n",
       "      <td>France</td>\n",
       "      <td>Syrah</td>\n",
       "      <td>Dark in color and in flavor profile, this medi...</td>\n",
       "    </tr>\n",
       "    <tr>\n",
       "      <td>69</td>\n",
       "      <td>US</td>\n",
       "      <td>Cabernet Sauvignon</td>\n",
       "      <td>A juiciness of cherry and vanilla spark the op...</td>\n",
       "    </tr>\n",
       "    <tr>\n",
       "      <td>70</td>\n",
       "      <td>US</td>\n",
       "      <td>Cabernet Sauvignon</td>\n",
       "      <td>Sweetened tannins highlight a depth of chocola...</td>\n",
       "    </tr>\n",
       "    <tr>\n",
       "      <td>72</td>\n",
       "      <td>Italy</td>\n",
       "      <td>Nebbiolo</td>\n",
       "      <td>This offers aromas of red rose, wild berry, da...</td>\n",
       "    </tr>\n",
       "    <tr>\n",
       "      <td>78</td>\n",
       "      <td>US</td>\n",
       "      <td>Cabernet Sauvignon</td>\n",
       "      <td>This wine over-delivers in quality for the pri...</td>\n",
       "    </tr>\n",
       "    <tr>\n",
       "      <td>89</td>\n",
       "      <td>US</td>\n",
       "      <td>Meritage</td>\n",
       "      <td>A red Meritage driven by 73% Cabernet Sauvigno...</td>\n",
       "    </tr>\n",
       "    <tr>\n",
       "      <td>115</td>\n",
       "      <td>Argentina</td>\n",
       "      <td>Malbec</td>\n",
       "      <td>Aromas of prune, raisin and black plum are ful...</td>\n",
       "    </tr>\n",
       "    <tr>\n",
       "      <td>126</td>\n",
       "      <td>US</td>\n",
       "      <td>Zinfandel</td>\n",
       "      <td>Renwood's tiny two-barrel production of its mo...</td>\n",
       "    </tr>\n",
       "    <tr>\n",
       "      <td>127</td>\n",
       "      <td>US</td>\n",
       "      <td>Cabernet Sauvignon</td>\n",
       "      <td>This is a thick, chocolatey wine with a side o...</td>\n",
       "    </tr>\n",
       "    <tr>\n",
       "      <td>128</td>\n",
       "      <td>Spain</td>\n",
       "      <td>Tempranillo</td>\n",
       "      <td>Aromas of strawberry, currant and spice are go...</td>\n",
       "    </tr>\n",
       "    <tr>\n",
       "      <td>150</td>\n",
       "      <td>US</td>\n",
       "      <td>Pinot Noir</td>\n",
       "      <td>Reflecting the vintage, this Pinot is light an...</td>\n",
       "    </tr>\n",
       "    <tr>\n",
       "      <td>162</td>\n",
       "      <td>Spain</td>\n",
       "      <td>Tempranillo Blend</td>\n",
       "      <td>Dense, tarry aromas of asphalt and rubbery boy...</td>\n",
       "    </tr>\n",
       "    <tr>\n",
       "      <td>165</td>\n",
       "      <td>US</td>\n",
       "      <td>Pinot Noir</td>\n",
       "      <td>Tightly focused, as is often true of single-vi...</td>\n",
       "    </tr>\n",
       "    <tr>\n",
       "      <td>177</td>\n",
       "      <td>Italy</td>\n",
       "      <td>Red Blend</td>\n",
       "      <td>A robust blend of 70% Sangiovese and 30% Caber...</td>\n",
       "    </tr>\n",
       "    <tr>\n",
       "      <td>186</td>\n",
       "      <td>US</td>\n",
       "      <td>Zinfandel</td>\n",
       "      <td>This is a lush and powerful wine from a vineya...</td>\n",
       "    </tr>\n",
       "  </tbody>\n",
       "</table>\n",
       "</div>"
      ],
      "text/plain": [
       "       country             variety  \\\n",
       "1        Spain       Tinta de Toro   \n",
       "3           US          Pinot Noir   \n",
       "6        Spain       Tinta de Toro   \n",
       "12          US          Pinot Noir   \n",
       "14          US          Pinot Noir   \n",
       "16          US  Cabernet Sauvignon   \n",
       "22       Spain       Tinta de Toro   \n",
       "27          US          Pinot Noir   \n",
       "44      France               Syrah   \n",
       "69          US  Cabernet Sauvignon   \n",
       "70          US  Cabernet Sauvignon   \n",
       "72       Italy            Nebbiolo   \n",
       "78          US  Cabernet Sauvignon   \n",
       "89          US            Meritage   \n",
       "115  Argentina              Malbec   \n",
       "126         US           Zinfandel   \n",
       "127         US  Cabernet Sauvignon   \n",
       "128      Spain         Tempranillo   \n",
       "150         US          Pinot Noir   \n",
       "162      Spain   Tempranillo Blend   \n",
       "165         US          Pinot Noir   \n",
       "177      Italy           Red Blend   \n",
       "186         US           Zinfandel   \n",
       "\n",
       "                                           description  \n",
       "1    Ripe aromas of fig, blackberry and cassis are ...  \n",
       "3    This spent 20 months in 30% new French oak, an...  \n",
       "6    Slightly gritty black-fruit aromas include a s...  \n",
       "12   A standout even in this terrific lineup of 201...  \n",
       "14   With its sophisticated mix of mineral, acid an...  \n",
       "16   This blockbuster, powerhouse of a wine suggest...  \n",
       "22   Tarry blackberry and cheesy oak aromas are app...  \n",
       "27   Focused and dense, this intense wine captures ...  \n",
       "44   Dark in color and in flavor profile, this medi...  \n",
       "69   A juiciness of cherry and vanilla spark the op...  \n",
       "70   Sweetened tannins highlight a depth of chocola...  \n",
       "72   This offers aromas of red rose, wild berry, da...  \n",
       "78   This wine over-delivers in quality for the pri...  \n",
       "89   A red Meritage driven by 73% Cabernet Sauvigno...  \n",
       "115  Aromas of prune, raisin and black plum are ful...  \n",
       "126  Renwood's tiny two-barrel production of its mo...  \n",
       "127  This is a thick, chocolatey wine with a side o...  \n",
       "128  Aromas of strawberry, currant and spice are go...  \n",
       "150  Reflecting the vintage, this Pinot is light an...  \n",
       "162  Dense, tarry aromas of asphalt and rubbery boy...  \n",
       "165  Tightly focused, as is often true of single-vi...  \n",
       "177  A robust blend of 70% Sangiovese and 30% Caber...  \n",
       "186  This is a lush and powerful wine from a vineya...  "
      ]
     },
     "execution_count": 7,
     "metadata": {},
     "output_type": "execute_result"
    }
   ],
   "source": [
    "wines[wines.description.str.contains('chocolate')][['country', 'variety', 'description']]"
   ]
  },
  {
   "cell_type": "markdown",
   "metadata": {},
   "source": [
    "*Find wines with description containing 'chocolate' and 'fruit'*"
   ]
  },
  {
   "cell_type": "code",
   "execution_count": null,
   "metadata": {},
   "outputs": [],
   "source": [
    "wines[wines.description.str.contains('chocolate') & wines.description.str.contains('fruit')]\\\n",
    "[['country', 'variety','description']]"
   ]
  },
  {
   "cell_type": "markdown",
   "metadata": {},
   "source": [
    "*Find wines with description where 'chocolate' precedes 'fruit', then reverse*"
   ]
  },
  {
   "cell_type": "code",
   "execution_count": 5,
   "metadata": {},
   "outputs": [
    {
     "name": "stdout",
     "output_type": "stream",
     "text": [
      "Spain Tinta de Toro - Ripe aromas of fig, blackberry and cassis are softened and sweetened by a slathering of oaky chocolate and vanilla. This is full, layered, intense and cushioned on the palate, with rich flavors of chocolaty black fruits and baking spices. A toasty, everlasting finish is heady but ideally balanced. Drink through 2023. \n",
      "\n",
      "US Pinot Noir - A standout even in this terrific lineup of 2015 releases from Patricia Green, the Weber opens with a burst of cola and tobacco scents and accents. It continues, subtle and detailed, with flavors of oranges, vanilla, tea and milk chocolate discreetly threaded through ripe blackberry fruit. \n",
      "\n",
      "France Syrah - Dark in color and in flavor profile, this medium-bodied Cornas boasts aromas and flavors reminiscent of chocolate fudge, espresso and plummy fruit, all framed by soft, dusty tannins. Drink now_2025. \n",
      "\n"
     ]
    }
   ],
   "source": [
    "for i in range(len(wines)):\n",
    "    text = wines.loc[i].description\n",
    "    s = re.search('chocolate(.*)fruit', text)\n",
    "    if s:\n",
    "        print wines.loc[i].country, wines.loc[i].variety, '-', text, '\\n'"
   ]
  },
  {
   "cell_type": "markdown",
   "metadata": {},
   "source": [
    "*Find wines to be drunk between now and 2020 or later*"
   ]
  },
  {
   "cell_type": "code",
   "execution_count": 6,
   "metadata": {},
   "outputs": [
    {
     "name": "stdout",
     "output_type": "stream",
     "text": [
      "Pinot Noir - Drink now through 2032\n",
      "Tinta de Toro - Drink this exemplary Toro through 2023\n",
      "Tinta de Toro - Drink now through 2024\n",
      "Tinta de Toro - Drink this saturated black-colored Toro through 2023\n",
      "Pinot Noir - Drink now through 2030\n",
      "Pinot Noir - Drink now through 2028\n",
      "Pinot Noir - Drink now through 2028\n",
      "Chardonnay - Drink now through 2028\n",
      "Tempranillo Blend - Drink this special Rioja from 2020 through 2035\n",
      "Pinot Noir - Drink now through 2020\n",
      "Cabernet Sauvignon - Drink now through 2022\n",
      "Meritage - Drink now through 2020\n",
      "Chardonnay - Drink now through 2021\n"
     ]
    }
   ],
   "source": [
    "# Find wines to be drunk through 2020 or later\n",
    "for i in range(len(wines)):\n",
    "    text = wines.loc[i].description\n",
    "    s = re.search('Drink (.*) through 20(2|3).', text)\n",
    "    if s:\n",
    "        print wines.loc[i].variety, '-', text[s.start():s.end()]"
   ]
  },
  {
   "cell_type": "markdown",
   "metadata": {},
   "source": [
    "### Language processing: tokenizing, removing punctuation, parts of speech"
   ]
  },
  {
   "cell_type": "markdown",
   "metadata": {},
   "source": [
    "*Process one description; first separate into list of tokens*"
   ]
  },
  {
   "cell_type": "code",
   "execution_count": 7,
   "metadata": {},
   "outputs": [
    {
     "name": "stdout",
     "output_type": "stream",
     "text": [
      "['Ripe', 'aromas', 'of', 'fig', ',', 'blackberry', 'and', 'cassis', 'are', 'softened', 'and', 'sweetened', 'by', 'a', 'slathering', 'of', 'oaky', 'chocolate', 'and', 'vanilla', '.', 'This', 'is', 'full', ',', 'layered', ',', 'intense', 'and', 'cushioned', 'on', 'the', 'palate', ',', 'with', 'rich', 'flavors', 'of', 'chocolaty', 'black', 'fruits', 'and', 'baking', 'spices', '.', 'A', 'toasty', ',', 'everlasting', 'finish', 'is', 'heady', 'but', 'ideally', 'balanced', '.', 'Drink', 'through', '2023', '.']\n"
     ]
    }
   ],
   "source": [
    "text = wines.loc[1].description\n",
    "tokens = nltk.wordpunct_tokenize(text)\n",
    "print tokens"
   ]
  },
  {
   "cell_type": "markdown",
   "metadata": {},
   "source": [
    "*Remove puncutation*"
   ]
  },
  {
   "cell_type": "code",
   "execution_count": 8,
   "metadata": {},
   "outputs": [
    {
     "name": "stdout",
     "output_type": "stream",
     "text": [
      "['!', '\"', '#', '$', '%', '&', \"'\", '(', ')', '*', '+', ',', '-', '.', '/', ':', ';', '<', '=', '>', '?', '@', '[', '\\\\', ']', '^', '_', '`', '{', '|', '}', '~']\n",
      "['Ripe', 'aromas', 'of', 'fig', 'blackberry', 'and', 'cassis', 'are', 'softened', 'and', 'sweetened', 'by', 'a', 'slathering', 'of', 'oaky', 'chocolate', 'and', 'vanilla', 'This', 'is', 'full', 'layered', 'intense', 'and', 'cushioned', 'on', 'the', 'palate', 'with', 'rich', 'flavors', 'of', 'chocolaty', 'black', 'fruits', 'and', 'baking', 'spices', 'A', 'toasty', 'everlasting', 'finish', 'is', 'heady', 'but', 'ideally', 'balanced', 'Drink', 'through', '2023']\n"
     ]
    }
   ],
   "source": [
    "punct = list(string.punctuation)\n",
    "print punct\n",
    "tokens_nopunct = []\n",
    "for word in tokens:\n",
    "    if word not in punct:\n",
    "        tokens_nopunct.append(word)\n",
    "print tokens_nopunct"
   ]
  },
  {
   "cell_type": "code",
   "execution_count": 9,
   "metadata": {},
   "outputs": [
    {
     "name": "stdout",
     "output_type": "stream",
     "text": [
      "['Ripe', 'aromas', 'of', 'fig', 'blackberry', 'and', 'cassis', 'are', 'softened', 'and', 'sweetened', 'by', 'a', 'slathering', 'of', 'oaky', 'chocolate', 'and', 'vanilla', 'This', 'is', 'full', 'layered', 'intense', 'and', 'cushioned', 'on', 'the', 'palate', 'with', 'rich', 'flavors', 'of', 'chocolaty', 'black', 'fruits', 'and', 'baking', 'spices', 'A', 'toasty', 'everlasting', 'finish', 'is', 'heady', 'but', 'ideally', 'balanced', 'Drink', 'through', '2023']\n"
     ]
    }
   ],
   "source": [
    "# more compact code for same thing\n",
    "punct = list(string.punctuation)\n",
    "tokens_nopunct = [word for word in tokens if word not in punct]\n",
    "print tokens_nopunct"
   ]
  },
  {
   "cell_type": "markdown",
   "metadata": {},
   "source": [
    "*Tag with parts of speech*"
   ]
  },
  {
   "cell_type": "code",
   "execution_count": 10,
   "metadata": {},
   "outputs": [
    {
     "name": "stdout",
     "output_type": "stream",
     "text": [
      "[('Ripe', 'NNP'), ('aromas', 'NN'), ('of', 'IN'), ('fig', 'NN'), ('blackberry', 'NN'), ('and', 'CC'), ('cassis', 'NN'), ('are', 'VBP'), ('softened', 'VBN'), ('and', 'CC'), ('sweetened', 'VBN'), ('by', 'IN'), ('a', 'DT'), ('slathering', 'NN'), ('of', 'IN'), ('oaky', 'JJ'), ('chocolate', 'NN'), ('and', 'CC'), ('vanilla', 'NN'), ('This', 'DT'), ('is', 'VBZ'), ('full', 'JJ'), ('layered', 'VBN'), ('intense', 'JJ'), ('and', 'CC'), ('cushioned', 'VBN'), ('on', 'IN'), ('the', 'DT'), ('palate', 'NN'), ('with', 'IN'), ('rich', 'JJ'), ('flavors', 'NNS'), ('of', 'IN'), ('chocolaty', 'NN'), ('black', 'JJ'), ('fruits', 'NNS'), ('and', 'CC'), ('baking', 'VBG'), ('spices', 'NNS'), ('A', 'NNP'), ('toasty', 'NN'), ('everlasting', 'VBG'), ('finish', 'NN'), ('is', 'VBZ'), ('heady', 'JJ'), ('but', 'CC'), ('ideally', 'RB'), ('balanced', 'VBD'), ('Drink', 'NNP'), ('through', 'IN'), ('2023', 'CD')]\n"
     ]
    }
   ],
   "source": [
    "tagged = nltk.pos_tag(tokens_nopunct)\n",
    "print tagged"
   ]
  },
  {
   "cell_type": "markdown",
   "metadata": {},
   "source": [
    "*Demystify tags*"
   ]
  },
  {
   "cell_type": "code",
   "execution_count": 11,
   "metadata": {},
   "outputs": [
    {
     "name": "stdout",
     "output_type": "stream",
     "text": [
      "NNP: noun, proper, singular\n",
      "    Motown Venneboerger Czestochwa Ranzer Conchita Trumplane Christos\n",
      "    Oceanside Escobar Kreisler Sawyer Cougar Yvette Ervin ODI Darryl CTCA\n",
      "    Shannon A.K.C. Meltex Liverpool ...\n",
      "NN: noun, common, singular or mass\n",
      "    common-carrier cabbage knuckle-duster Casino afghan shed thermostat\n",
      "    investment slide humour falloff slick wind hyena override subhumanity\n",
      "    machinist ...\n",
      "IN: preposition or conjunction, subordinating\n",
      "    astride among uppon whether out inside pro despite on by throughout\n",
      "    below within for towards near behind atop around if like until below\n",
      "    next into if beside ...\n",
      "CC: conjunction, coordinating\n",
      "    & 'n and both but either et for less minus neither nor or plus so\n",
      "    therefore times v. versus vs. whether yet\n",
      "VBP: verb, present tense, not 3rd person singular\n",
      "    predominate wrap resort sue twist spill cure lengthen brush terminate\n",
      "    appear tend stray glisten obtain comprise detest tease attract\n",
      "    emphasize mold postpone sever return wag ...\n",
      "VBN: verb, past participle\n",
      "    multihulled dilapidated aerosolized chaired languished panelized used\n",
      "    experimented flourished imitated reunifed factored condensed sheared\n",
      "    unsettled primed dubbed desired ...\n",
      "DT: determiner\n",
      "    all an another any both del each either every half la many much nary\n",
      "    neither no some such that the them these this those\n",
      "JJ: adjective or numeral, ordinal\n",
      "    third ill-mannered pre-war regrettable oiled calamitous first separable\n",
      "    ectoplasmic battery-powered participatory fourth still-to-be-named\n",
      "    multilingual multi-disciplinary ...\n",
      "VBZ: verb, present tense, 3rd person singular\n",
      "    bases reconstructs marks mixes displeases seals carps weaves snatches\n",
      "    slumps stretches authorizes smolders pictures emerges stockpiles\n",
      "    seduces fizzes uses bolsters slaps speaks pleads ...\n",
      "NNS: noun, common, plural\n",
      "    undergraduates scotches bric-a-brac products bodyguards facets coasts\n",
      "    divestitures storehouses designs clubs fragrances averages\n",
      "    subjectivists apprehensions muses factory-jobs ...\n",
      "VBG: verb, present participle or gerund\n",
      "    telegraphing stirring focusing angering judging stalling lactating\n",
      "    hankerin' alleging veering capping approaching traveling besieging\n",
      "    encrypting interrupting erasing wincing ...\n",
      "RB: adverb\n",
      "    occasionally unabatingly maddeningly adventurously professedly\n",
      "    stirringly prominently technologically magisterially predominately\n",
      "    swiftly fiscally pitilessly ...\n",
      "VBD: verb, past tense\n",
      "    dipped pleaded swiped regummed soaked tidied convened halted registered\n",
      "    cushioned exacted snubbed strode aimed adopted belied figgered\n",
      "    speculated wore appreciated contemplated ...\n",
      "CD: numeral, cardinal\n",
      "    mid-1890 nine-thirty forty-two one-tenth ten million 0.5 one forty-\n",
      "    seven 1987 twenty '79 zero two 78-degrees eighty-four IX '60s .025\n",
      "    fifteen 271,124 dozen quintillion DM2,000 ...\n"
     ]
    }
   ],
   "source": [
    "done = []\n",
    "for word in tagged:\n",
    "    if word[1] not in done:\n",
    "        done.append(word[1])\n",
    "        nltk.help.upenn_tagset(word[1])"
   ]
  },
  {
   "cell_type": "markdown",
   "metadata": {},
   "source": [
    "### Entire corpus as list of words"
   ]
  },
  {
   "cell_type": "code",
   "execution_count": 12,
   "metadata": {},
   "outputs": [],
   "source": [
    "punct = list(string.punctuation)\n",
    "allwords = []\n",
    "for i in range(len(wines)):\n",
    "    text = wines.loc[i].description\n",
    "    tokens = nltk.wordpunct_tokenize(text)\n",
    "    tokens = [word.lower() for word in tokens if word not in punct]\n",
    "    allwords = allwords + tokens\n",
    "# print allwords"
   ]
  },
  {
   "cell_type": "markdown",
   "metadata": {},
   "source": [
    "*Most common words in corpus*"
   ]
  },
  {
   "cell_type": "code",
   "execution_count": 13,
   "metadata": {},
   "outputs": [
    {
     "data": {
      "text/plain": [
       "[('and', 551),\n",
       " ('the', 336),\n",
       " ('of', 283),\n",
       " ('a', 270),\n",
       " ('this', 207),\n",
       " ('with', 160),\n",
       " ('is', 135),\n",
       " ('wine', 128),\n",
       " ('it', 122),\n",
       " ('in', 111),\n",
       " ('flavors', 104),\n",
       " ('on', 83),\n",
       " ('palate', 83),\n",
       " ('aromas', 79),\n",
       " ('to', 78),\n",
       " ('tannins', 71),\n",
       " ('fruit', 70),\n",
       " ('cherry', 66),\n",
       " ('from', 65),\n",
       " ('drink', 63)]"
      ]
     },
     "execution_count": 13,
     "metadata": {},
     "output_type": "execute_result"
    }
   ],
   "source": [
    "counts = Counter(allwords)\n",
    "# print counts\n",
    "counts.most_common(20)"
   ]
  },
  {
   "cell_type": "markdown",
   "metadata": {},
   "source": [
    "*Now without stopwords*"
   ]
  },
  {
   "cell_type": "code",
   "execution_count": 8,
   "metadata": {},
   "outputs": [
    {
     "ename": "NameError",
     "evalue": "name 'allwords' is not defined",
     "output_type": "error",
     "traceback": [
      "\u001b[0;31m---------------------------------------------------------------------------\u001b[0m",
      "\u001b[0;31mNameError\u001b[0m                                 Traceback (most recent call last)",
      "\u001b[0;32m<ipython-input-8-a409b00c5c06>\u001b[0m in \u001b[0;36m<module>\u001b[0;34m\u001b[0m\n\u001b[1;32m      1\u001b[0m \u001b[0mstop\u001b[0m \u001b[0;34m=\u001b[0m \u001b[0mstopwords\u001b[0m\u001b[0;34m.\u001b[0m\u001b[0mwords\u001b[0m\u001b[0;34m(\u001b[0m\u001b[0;34m'english'\u001b[0m\u001b[0;34m)\u001b[0m\u001b[0;34m\u001b[0m\u001b[0;34m\u001b[0m\u001b[0m\n\u001b[1;32m      2\u001b[0m \u001b[0;31m# print stop\u001b[0m\u001b[0;34m\u001b[0m\u001b[0;34m\u001b[0m\u001b[0;34m\u001b[0m\u001b[0m\n\u001b[0;32m----> 3\u001b[0;31m \u001b[0mallwords_nostops\u001b[0m \u001b[0;34m=\u001b[0m \u001b[0;34m[\u001b[0m\u001b[0mword\u001b[0m \u001b[0;32mfor\u001b[0m \u001b[0mword\u001b[0m \u001b[0;32min\u001b[0m \u001b[0mallwords\u001b[0m \u001b[0;32mif\u001b[0m \u001b[0mword\u001b[0m \u001b[0;32mnot\u001b[0m \u001b[0;32min\u001b[0m \u001b[0mstop\u001b[0m\u001b[0;34m]\u001b[0m\u001b[0;34m\u001b[0m\u001b[0;34m\u001b[0m\u001b[0m\n\u001b[0m\u001b[1;32m      4\u001b[0m \u001b[0mcounts\u001b[0m \u001b[0;34m=\u001b[0m \u001b[0mCounter\u001b[0m\u001b[0;34m(\u001b[0m\u001b[0mallwords_nostops\u001b[0m\u001b[0;34m)\u001b[0m\u001b[0;34m\u001b[0m\u001b[0;34m\u001b[0m\u001b[0m\n\u001b[1;32m      5\u001b[0m \u001b[0mcounts\u001b[0m\u001b[0;34m.\u001b[0m\u001b[0mmost_common\u001b[0m\u001b[0;34m(\u001b[0m\u001b[0;36m20\u001b[0m\u001b[0;34m)\u001b[0m\u001b[0;34m\u001b[0m\u001b[0;34m\u001b[0m\u001b[0m\n",
      "\u001b[0;31mNameError\u001b[0m: name 'allwords' is not defined"
     ]
    }
   ],
   "source": [
    "stop = stopwords.words('english')\n",
    "# print stop\n",
    "allwords_nostops = [word for word in allwords if word not in stop]\n",
    "counts = Counter(allwords_nostops)\n",
    "counts.most_common(20)"
   ]
  },
  {
   "cell_type": "markdown",
   "metadata": {},
   "source": [
    "#### Bigrams and n-grams"
   ]
  },
  {
   "cell_type": "markdown",
   "metadata": {},
   "source": [
    "*Bigrams and 4-grams on one description*"
   ]
  },
  {
   "cell_type": "code",
   "execution_count": 14,
   "metadata": {},
   "outputs": [
    {
     "name": "stdout",
     "output_type": "stream",
     "text": [
      "Ripe aromas of fig, blackberry and cassis are softened and sweetened by a slathering of oaky chocolate and vanilla. This is full, layered, intense and cushioned on the palate, with rich flavors of chocolaty black fruits and baking spices. A toasty, everlasting finish is heady but ideally balanced. Drink through 2023. \n",
      "\n",
      "('Ripe', 'aromas')\n",
      "('aromas', 'of')\n",
      "('of', 'fig')\n",
      "('fig', 'blackberry')\n",
      "('blackberry', 'and')\n",
      "('and', 'cassis')\n",
      "('cassis', 'are')\n",
      "('are', 'softened')\n",
      "('softened', 'and')\n",
      "('and', 'sweetened')\n",
      "('sweetened', 'by')\n",
      "('by', 'a')\n",
      "('a', 'slathering')\n",
      "('slathering', 'of')\n",
      "('of', 'oaky')\n",
      "('oaky', 'chocolate')\n",
      "('chocolate', 'and')\n",
      "('and', 'vanilla')\n",
      "('vanilla', 'This')\n",
      "('This', 'is')\n",
      "('is', 'full')\n",
      "('full', 'layered')\n",
      "('layered', 'intense')\n",
      "('intense', 'and')\n",
      "('and', 'cushioned')\n",
      "('cushioned', 'on')\n",
      "('on', 'the')\n",
      "('the', 'palate')\n",
      "('palate', 'with')\n",
      "('with', 'rich')\n",
      "('rich', 'flavors')\n",
      "('flavors', 'of')\n",
      "('of', 'chocolaty')\n",
      "('chocolaty', 'black')\n",
      "('black', 'fruits')\n",
      "('fruits', 'and')\n",
      "('and', 'baking')\n",
      "('baking', 'spices')\n",
      "('spices', 'A')\n",
      "('A', 'toasty')\n",
      "('toasty', 'everlasting')\n",
      "('everlasting', 'finish')\n",
      "('finish', 'is')\n",
      "('is', 'heady')\n",
      "('heady', 'but')\n",
      "('but', 'ideally')\n",
      "('ideally', 'balanced')\n",
      "('balanced', 'Drink')\n",
      "('Drink', 'through')\n",
      "('through', '2023')\n"
     ]
    }
   ],
   "source": [
    "# Recreate list of tokens from one description\n",
    "text = wines.loc[1].description\n",
    "print text, '\\n'\n",
    "tokens = nltk.wordpunct_tokenize(text)\n",
    "punct = list(string.punctuation)\n",
    "tokens = [word for word in tokens if word not in punct]\n",
    "# Find bigrams\n",
    "bg = nltk.bigrams(tokens)\n",
    "for b in bg: print b\n",
    "# Change to ngrams(tokens, 4)"
   ]
  },
  {
   "cell_type": "markdown",
   "metadata": {},
   "source": [
    "*Most common word triples in corpus*"
   ]
  },
  {
   "cell_type": "code",
   "execution_count": 15,
   "metadata": {},
   "outputs": [
    {
     "data": {
      "text/plain": [
       "[(('on', 'the', 'palate'), 23),\n",
       " (('this', 'is', 'a'), 17),\n",
       " (('on', 'the', 'nose'), 14),\n",
       " (('a', 'hint', 'of'), 12),\n",
       " (('drink', 'now', 'through'), 11),\n",
       " (('on', 'the', 'finish'), 10),\n",
       " (('a', 'whiff', 'of'), 8),\n",
       " (('and', 'a', 'hint'), 8),\n",
       " (('a', 'blend', 'of'), 7),\n",
       " (('this', 'is', 'an'), 7),\n",
       " (('this', 'medium', 'bodied'), 7),\n",
       " (('the', 'palate', 'with'), 7),\n",
       " (('and', 'a', 'whiff'), 7),\n",
       " (('fine', 'grained', 'tannins'), 7),\n",
       " (('this', 'wine', 'is'), 7),\n",
       " (('full', 'bodied', 'wine'), 6),\n",
       " (('medium', 'bodied', 'wine'), 6),\n",
       " (('lead', 'the', 'nose'), 6),\n",
       " (('drink', 'through', '2020'), 6),\n",
       " (('in', 'the', 'glass'), 6)]"
      ]
     },
     "execution_count": 15,
     "metadata": {},
     "output_type": "execute_result"
    }
   ],
   "source": [
    "grams = nltk.ngrams(allwords, 3)\n",
    "counts = Counter(grams)\n",
    "counts.most_common(20)\n",
    "# try longer n-grams\n",
    "# change to allwords_nostops"
   ]
  },
  {
   "cell_type": "markdown",
   "metadata": {},
   "source": [
    "*On entire corpus find all pairs of words that follow 'citrus'*"
   ]
  },
  {
   "cell_type": "code",
   "execution_count": null,
   "metadata": {},
   "outputs": [],
   "source": [
    "grams = nltk.ngrams(allwords, 3)\n",
    "for g in grams:\n",
    "    if g[0] == 'citrus': print g\n",
    "# change to allwords_nostops\n",
    "# change to pairs of words around citrus (g[1]), back to allwords"
   ]
  },
  {
   "cell_type": "code",
   "execution_count": null,
   "metadata": {},
   "outputs": [],
   "source": [
    "# same functionality without n-grams\n",
    "for i in range(len(allwords)-2):\n",
    "    if allwords[i] == 'citrus':\n",
    "        print allwords[i], allwords[i+1], allwords[i+2]"
   ]
  }
 ],
 "metadata": {
  "kernelspec": {
   "display_name": "Python 3",
   "language": "python",
   "name": "python3"
  },
  "language_info": {
   "codemirror_mode": {
    "name": "ipython",
    "version": 3
   },
   "file_extension": ".py",
   "mimetype": "text/x-python",
   "name": "python",
   "nbconvert_exporter": "python",
   "pygments_lexer": "ipython3",
   "version": "3.7.4"
  }
 },
 "nbformat": 4,
 "nbformat_minor": 1
}
