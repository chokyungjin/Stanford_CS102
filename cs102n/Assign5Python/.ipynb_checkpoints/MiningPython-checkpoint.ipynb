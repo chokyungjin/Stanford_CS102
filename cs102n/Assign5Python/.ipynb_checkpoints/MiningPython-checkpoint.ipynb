{
 "cells": [
  {
   "cell_type": "markdown",
   "metadata": {},
   "source": [
    "### CS102: Data Mining Using Python"
   ]
  },
  {
   "cell_type": "code",
   "execution_count": null,
   "metadata": {
    "scrolled": true
   },
   "outputs": [],
   "source": [
    "import csv"
   ]
  },
  {
   "cell_type": "code",
   "execution_count": null,
   "metadata": {},
   "outputs": [],
   "source": [
    "# For compatibility across multiple platforms\n",
    "import os\n",
    "IB = os.environ.get('INSTABASE_URI',None) is not None\n",
    "open = ib.open if IB else open"
   ]
  },
  {
   "cell_type": "code",
   "execution_count": null,
   "metadata": {
    "scrolled": true
   },
   "outputs": [],
   "source": [
    "# Read shopping dataset from CSV file\n",
    "# Create dictionary \"items\" with key = item and value = list of transactions\n",
    "# Also set variable numtrans = number of transactions\n",
    "items = {}\n",
    "trans = []  # list of transactions used to set numtrans\n",
    "with open('Shop.csv','rU') as f:\n",
    "    rows = csv.DictReader(f)\n",
    "    for r in rows:\n",
    "        if r['item'] not in items:\n",
    "            items[r['item']] = [r['TID']]\n",
    "        else:\n",
    "            items[r['item']].append(r['TID'])\n",
    "        if r['TID'] not in trans:\n",
    "            trans.append(r['TID'])\n",
    "numtrans = len(trans)\n",
    "print 'Number of transactions:', numtrans\n",
    "print 'Number of distinct items:', len(items)\n",
    "print 'Item dictionary:', items"
   ]
  },
  {
   "cell_type": "markdown",
   "metadata": {},
   "source": [
    "### Some new Python features"
   ]
  },
  {
   "cell_type": "code",
   "execution_count": null,
   "metadata": {
    "scrolled": false
   },
   "outputs": [],
   "source": [
    "# Iterating through dictionaries\n",
    "for i in items:\n",
    "    print i\n",
    "    print items[i]"
   ]
  },
  {
   "cell_type": "code",
   "execution_count": null,
   "metadata": {
    "scrolled": true
   },
   "outputs": [],
   "source": [
    "# Intersecting lists\n",
    "# How many transactions contain both eggs and milk?\n",
    "list1 = items['eggs']\n",
    "print list1\n",
    "list2 = items['milk']\n",
    "print list2\n",
    "list3 = set(list1) & set(list2)\n",
    "print list3\n",
    "# add print len(list3)"
   ]
  },
  {
   "cell_type": "markdown",
   "metadata": {},
   "source": [
    "### Frequent item-sets of two"
   ]
  },
  {
   "cell_type": "markdown",
   "metadata": {},
   "source": [
    "#### First compute all pairs of items and the number of transactions they occur together in (see what's wrong and fix it)"
   ]
  },
  {
   "cell_type": "code",
   "execution_count": null,
   "metadata": {
    "scrolled": true
   },
   "outputs": [],
   "source": [
    "pairs = []\n",
    "for i1 in items:\n",
    "    for i2 in items:\n",
    "        common = len(set(items[i1]) & set(items[i2]))\n",
    "        pairs.append([i1, i2, common])\n",
    "print pairs"
   ]
  },
  {
   "cell_type": "markdown",
   "metadata": {},
   "source": [
    "#### Print pairs that meet support threshold (see what's wrong and fix it)"
   ]
  },
  {
   "cell_type": "code",
   "execution_count": null,
   "metadata": {
    "scrolled": true
   },
   "outputs": [],
   "source": [
    "support = .3\n",
    "for p in pairs:\n",
    "    if p[2]/numtrans > support:\n",
    "        print p[0], '|', p[1]"
   ]
  },
  {
   "cell_type": "code",
   "execution_count": null,
   "metadata": {
    "scrolled": true
   },
   "outputs": [],
   "source": [
    "# Fold previous two code boxes together into one program\n",
    "WILL ADD CODE HERE"
   ]
  },
  {
   "cell_type": "markdown",
   "metadata": {},
   "source": [
    "### Frequent item-sets of three"
   ]
  },
  {
   "cell_type": "code",
   "execution_count": null,
   "metadata": {
    "scrolled": true
   },
   "outputs": [],
   "source": [
    "support = .3\n",
    "for i1 in items:\n",
    "    for i2 in items:\n",
    "        for i3 in items:\n",
    "            if i1 < i2 and i2 < i3:\n",
    "                common = len(set(items[i1]) & set(items[i2]) & set(items[i3]))\n",
    "                if float(common)/numtrans > support:\n",
    "                    print i1, '|', i2, '|', i3"
   ]
  },
  {
   "cell_type": "markdown",
   "metadata": {},
   "source": [
    "### Apriori algorithm: frequent item-sets of one, then two, then three"
   ]
  },
  {
   "cell_type": "markdown",
   "metadata": {},
   "source": [
    "#### Frequent item-sets of one"
   ]
  },
  {
   "cell_type": "code",
   "execution_count": null,
   "metadata": {
    "scrolled": true
   },
   "outputs": [],
   "source": [
    "support = .3\n",
    "ones = []\n",
    "for i in items:\n",
    "    if float(len(items[i]))/numtrans > support:\n",
    "        ones.append(i)\n",
    "print ones"
   ]
  },
  {
   "cell_type": "markdown",
   "metadata": {},
   "source": [
    "#### Frequent item-sets of two using only items from frequent item-sets of one"
   ]
  },
  {
   "cell_type": "code",
   "execution_count": null,
   "metadata": {
    "scrolled": true
   },
   "outputs": [],
   "source": [
    "support = .3\n",
    "twos = []\n",
    "for i1 in ones:\n",
    "    for i2 in ones:\n",
    "        if i1 < i2:\n",
    "            common = len(set(items[i1]) & set(items[i2]))\n",
    "            if float(common)/numtrans > support:\n",
    "                twos.append([i1, i2])\n",
    "print twos"
   ]
  },
  {
   "cell_type": "markdown",
   "metadata": {},
   "source": [
    "#### Frequent item-sets of three using only items from frequent item-sets of two and one (see what's wrong and fix it)"
   ]
  },
  {
   "cell_type": "code",
   "execution_count": null,
   "metadata": {
    "scrolled": true
   },
   "outputs": [],
   "source": [
    "support = .3\n",
    "for one in ones:\n",
    "    for two in twos:\n",
    "        if one not in two:\n",
    "            common = len(set(items[one]) & set(items[two[0]]) & set(items[two[1]]))\n",
    "            if float(common)/numtrans > support:\n",
    "                print one, '|', two[0], '|', two[1]"
   ]
  },
  {
   "cell_type": "markdown",
   "metadata": {},
   "source": [
    "### Association rules with one item on the left-hand side"
   ]
  },
  {
   "cell_type": "markdown",
   "metadata": {},
   "source": [
    "#### First compute frequent item-sets of one item, as candidate left-hand sides of assocation rules. Include the number of transactions the items occur in."
   ]
  },
  {
   "cell_type": "code",
   "execution_count": null,
   "metadata": {
    "scrolled": true
   },
   "outputs": [],
   "source": [
    "support = .5\n",
    "frequentLHS = []\n",
    "for i in items:\n",
    "    if float(len(items[i]))/numtrans > support:\n",
    "        frequentLHS.append([i,len(items[i])])\n",
    "print frequentLHS"
   ]
  },
  {
   "cell_type": "markdown",
   "metadata": {},
   "source": [
    "#### Now find right-hand side items with sufficient confidence (see what's wrong and fix it)"
   ]
  },
  {
   "cell_type": "code",
   "execution_count": null,
   "metadata": {
    "scrolled": true
   },
   "outputs": [],
   "source": [
    "confidence = .5\n",
    "for lhs in frequentLHS:\n",
    "    for i in items:\n",
    "        common = len(set(items[lhs[0]]) & set(items[i]))\n",
    "        if float(common)/lhs[1] > confidence:\n",
    "            print lhs[0], '->', i"
   ]
  },
  {
   "cell_type": "markdown",
   "metadata": {},
   "source": [
    "### Association rules with two items on the left-hand side"
   ]
  },
  {
   "cell_type": "markdown",
   "metadata": {},
   "source": [
    "#### First compute frequent item-sets of two items, as candidate left-hand sides of assocation rules. Include the number of transactions the items occur in."
   ]
  },
  {
   "cell_type": "code",
   "execution_count": null,
   "metadata": {
    "scrolled": true
   },
   "outputs": [],
   "source": [
    "support = .5\n",
    "frequentLHS = []\n",
    "for i1 in items:\n",
    "    for i2 in items:\n",
    "        if i1 < i2:\n",
    "            common = len(set(items[i1]) & set(items[i2]))\n",
    "            if float(common)/numtrans > support:\n",
    "                frequentLHS.append([i1,i2,common])\n",
    "print frequentLHS"
   ]
  },
  {
   "cell_type": "markdown",
   "metadata": {},
   "source": [
    "#### Now find right-hand side items with sufficient confidence"
   ]
  },
  {
   "cell_type": "code",
   "execution_count": null,
   "metadata": {
    "scrolled": true
   },
   "outputs": [],
   "source": [
    "confidence = .5\n",
    "for lhs in frequentLHS:\n",
    "    for i in items:\n",
    "        if i not in lhs:\n",
    "            common = len(set(items[lhs[0]]) & set(items[lhs[1]]) & set(items[i]))\n",
    "            if float(common)/lhs[2] > confidence:\n",
    "                print lhs[0], '|', lhs[1], '->', i"
   ]
  },
  {
   "cell_type": "markdown",
   "metadata": {},
   "source": [
    "## Association rules with lift instead of confidence"
   ]
  },
  {
   "cell_type": "markdown",
   "metadata": {},
   "source": [
    "### Association rules with one item on the left-hand side"
   ]
  },
  {
   "cell_type": "markdown",
   "metadata": {},
   "source": [
    "#### First compute frequent item-sets of one item, as candidate left-hand sides of assocation rules. Include the number of transactions the items occur in."
   ]
  },
  {
   "cell_type": "code",
   "execution_count": null,
   "metadata": {},
   "outputs": [],
   "source": [
    "support = .5\n",
    "frequentLHS = []\n",
    "for i in items:\n",
    "    if float(len(items[i]))/numtrans > support:\n",
    "        frequentLHS.append([i,len(items[i])])\n",
    "print frequentLHS"
   ]
  },
  {
   "cell_type": "markdown",
   "metadata": {},
   "source": [
    "#### Now find right-hand side items with sufficient lift"
   ]
  },
  {
   "cell_type": "code",
   "execution_count": null,
   "metadata": {},
   "outputs": [],
   "source": [
    "liftthresh = 1\n",
    "for lhs in frequentLHS:\n",
    "    for i in items:\n",
    "        if i not in lhs:\n",
    "            common = len(set(items[lhs[0]]) & set(items[i]))\n",
    "            lift = (float(common)/lhs[1]) / (float(len(items[i]))/numtrans)\n",
    "            if lift > liftthresh:\n",
    "                print lhs[0], '->', i, 'with lift', lift"
   ]
  },
  {
   "cell_type": "markdown",
   "metadata": {},
   "source": [
    "### Association rules with two items on the left-hand side"
   ]
  },
  {
   "cell_type": "markdown",
   "metadata": {},
   "source": [
    "#### First compute frequent item-sets of two items, as candidate left-hand sides of assocation rules. Include the number of transactions the items occur in."
   ]
  },
  {
   "cell_type": "code",
   "execution_count": null,
   "metadata": {},
   "outputs": [],
   "source": [
    "support = .5\n",
    "frequentLHS = []\n",
    "for i1 in items:\n",
    "    for i2 in items:\n",
    "        if i1 < i2:\n",
    "            common = len(set(items[i1]) & set(items[i2]))\n",
    "            if float(common)/numtrans > support:\n",
    "                frequentLHS.append([i1,i2,common])\n",
    "print frequentLHS"
   ]
  },
  {
   "cell_type": "markdown",
   "metadata": {},
   "source": [
    "#### Now find right-hand side items with sufficient lift"
   ]
  },
  {
   "cell_type": "code",
   "execution_count": null,
   "metadata": {},
   "outputs": [],
   "source": [
    "liftthresh = 1\n",
    "for lhs in frequentLHS:\n",
    "    for i in items:\n",
    "        if i not in lhs:\n",
    "            common = len(set(items[lhs[0]]) & set(items[lhs[1]]) & set(items[i]))\n",
    "            lift = (float(common)/lhs[2]) / (float(len(items[i]))/numtrans)\n",
    "            if lift > 1:\n",
    "                print lhs[0], '|', lhs[1], '->', i, 'with lift', lift"
   ]
  }
 ],
 "metadata": {
  "kernelspec": {
   "display_name": "Python 3",
   "language": "python",
   "name": "python3"
  },
  "language_info": {
   "codemirror_mode": {
    "name": "ipython",
    "version": 3
   },
   "file_extension": ".py",
   "mimetype": "text/x-python",
   "name": "python",
   "nbconvert_exporter": "python",
   "pygments_lexer": "ipython3",
   "version": "3.7.4"
  }
 },
 "nbformat": 4,
 "nbformat_minor": 1
}
