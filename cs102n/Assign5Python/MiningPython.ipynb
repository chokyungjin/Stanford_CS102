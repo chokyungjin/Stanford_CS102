{
 "cells": [
  {
   "cell_type": "markdown",
   "metadata": {},
   "source": [
    "### CS102: Data Mining Using Python"
   ]
  },
  {
   "cell_type": "code",
   "execution_count": 2,
   "metadata": {
    "scrolled": true
   },
   "outputs": [],
   "source": [
    "import csv"
   ]
  },
  {
   "cell_type": "code",
   "execution_count": 3,
   "metadata": {},
   "outputs": [],
   "source": [
    "# For compatibility across multiple platforms\n",
    "import os\n",
    "IB = os.environ.get('INSTABASE_URI',None) is not None\n",
    "open = ib.open if IB else open"
   ]
  },
  {
   "cell_type": "code",
   "execution_count": 4,
   "metadata": {
    "scrolled": true
   },
   "outputs": [
    {
     "name": "stdout",
     "output_type": "stream",
     "text": [
      "Number of transactions : 5\n",
      "Number of distinct items : 5\n",
      "Item dictionary: {'milk': ['1', '2', '4', '5'], 'eggs': ['1', '3', '4'], 'juice': ['1', '2', '5'], 'cookies': ['2', '5'], 'chips': ['3', '5']}\n"
     ]
    }
   ],
   "source": [
    "# Read shopping dataset from CSV file\n",
    "# Create dictionary \"items\" with key = item and value = list of transactions\n",
    "# Also set variable numtrans = number of transactions\n",
    "items = {}\n",
    "trans = []  # list of transactions used to set numtrans\n",
    "with open('Shop.csv','r') as f:\n",
    "    rows = csv.DictReader(f)\n",
    "    for r in rows:\n",
    "        if r['item'] not in items:\n",
    "            items[r['item']] = [r['TID']]\n",
    "        else:\n",
    "            items[r['item']].append(r['TID'])\n",
    "        if r['TID'] not in trans:\n",
    "            trans.append(r['TID'])\n",
    "numtrans = len(trans)\n",
    "print ('Number of transactions :', numtrans)\n",
    "print ('Number of distinct items :', len(items))\n",
    "print ('Item dictionary:', items)"
   ]
  },
  {
   "cell_type": "markdown",
   "metadata": {},
   "source": [
    "### Some new Python features"
   ]
  },
  {
   "cell_type": "code",
   "execution_count": 5,
   "metadata": {
    "scrolled": false
   },
   "outputs": [
    {
     "name": "stdout",
     "output_type": "stream",
     "text": [
      "milk\n",
      "['1', '2', '4', '5']\n",
      "eggs\n",
      "['1', '3', '4']\n",
      "juice\n",
      "['1', '2', '5']\n",
      "cookies\n",
      "['2', '5']\n",
      "chips\n",
      "['3', '5']\n"
     ]
    }
   ],
   "source": [
    "# Iterating through dictionaries\n",
    "for i in items:\n",
    "    print (i)\n",
    "    print (items[i])"
   ]
  },
  {
   "cell_type": "code",
   "execution_count": 6,
   "metadata": {
    "scrolled": true
   },
   "outputs": [
    {
     "name": "stdout",
     "output_type": "stream",
     "text": [
      "['1', '3', '4']\n",
      "['1', '2', '4', '5']\n",
      "{'4', '1'}\n"
     ]
    }
   ],
   "source": [
    "# Intersecting lists\n",
    "# How many transactions contain both eggs and milk?\n",
    "list1 = items['eggs']\n",
    "print (list1)\n",
    "list2 = items['milk']\n",
    "print (list2)\n",
    "list3 = set(list1) & set(list2)\n",
    "print (list3)\n",
    "# add print len(list3)"
   ]
  },
  {
   "cell_type": "markdown",
   "metadata": {},
   "source": [
    "### Frequent item-sets of two"
   ]
  },
  {
   "cell_type": "markdown",
   "metadata": {},
   "source": [
    "#### First compute all pairs of items and the number of transactions they occur together in (see what's wrong and fix it)"
   ]
  },
  {
   "cell_type": "code",
   "execution_count": 7,
   "metadata": {
    "scrolled": true
   },
   "outputs": [
    {
     "name": "stdout",
     "output_type": "stream",
     "text": [
      "[['milk', 'milk', 4], ['milk', 'eggs', 2], ['milk', 'juice', 3], ['milk', 'cookies', 2], ['milk', 'chips', 1], ['eggs', 'milk', 2], ['eggs', 'eggs', 3], ['eggs', 'juice', 1], ['eggs', 'cookies', 0], ['eggs', 'chips', 1], ['juice', 'milk', 3], ['juice', 'eggs', 1], ['juice', 'juice', 3], ['juice', 'cookies', 2], ['juice', 'chips', 1], ['cookies', 'milk', 2], ['cookies', 'eggs', 0], ['cookies', 'juice', 2], ['cookies', 'cookies', 2], ['cookies', 'chips', 1], ['chips', 'milk', 1], ['chips', 'eggs', 1], ['chips', 'juice', 1], ['chips', 'cookies', 1], ['chips', 'chips', 2]]\n"
     ]
    }
   ],
   "source": [
    "pairs = []\n",
    "for i1 in items:\n",
    "    for i2 in items:\n",
    "        common = len(set(items[i1]) & set(items[i2]))\n",
    "        pairs.append([i1, i2, common])\n",
    "print (pairs)"
   ]
  },
  {
   "cell_type": "markdown",
   "metadata": {},
   "source": [
    "#### Print pairs that meet support threshold (see what's wrong and fix it)"
   ]
  },
  {
   "cell_type": "code",
   "execution_count": 9,
   "metadata": {
    "scrolled": false
   },
   "outputs": [
    {
     "name": "stdout",
     "output_type": "stream",
     "text": [
      "milk | milk\n",
      "milk | eggs\n",
      "milk | juice\n",
      "milk | cookies\n",
      "eggs | milk\n",
      "eggs | eggs\n",
      "juice | milk\n",
      "juice | juice\n",
      "juice | cookies\n",
      "cookies | milk\n",
      "cookies | juice\n",
      "cookies | cookies\n",
      "chips | chips\n"
     ]
    }
   ],
   "source": [
    "support = .3\n",
    "for p in pairs:\n",
    "    if p[2]/numtrans > support:\n",
    "        print (p[0], '|', p[1])"
   ]
  },
  {
   "cell_type": "code",
   "execution_count": 12,
   "metadata": {
    "scrolled": true
   },
   "outputs": [],
   "source": [
    "# Fold previous two code boxes together into one program\n",
    "#WILL ADD CODE HERE"
   ]
  },
  {
   "cell_type": "markdown",
   "metadata": {},
   "source": [
    "### Frequent item-sets of three"
   ]
  },
  {
   "cell_type": "code",
   "execution_count": 13,
   "metadata": {
    "scrolled": true
   },
   "outputs": [
    {
     "name": "stdout",
     "output_type": "stream",
     "text": [
      "cookies | juice | milk\n"
     ]
    }
   ],
   "source": [
    "support = .3\n",
    "for i1 in items:\n",
    "    for i2 in items:\n",
    "        for i3 in items:\n",
    "            if i1 < i2 and i2 < i3:\n",
    "                common = len(set(items[i1]) & set(items[i2]) & set(items[i3]))\n",
    "                if float(common)/numtrans > support:\n",
    "                    print (i1, '|', i2, '|', i3)"
   ]
  },
  {
   "cell_type": "markdown",
   "metadata": {},
   "source": [
    "### Apriori algorithm: frequent item-sets of one, then two, then three"
   ]
  },
  {
   "cell_type": "markdown",
   "metadata": {},
   "source": [
    "#### Frequent item-sets of one"
   ]
  },
  {
   "cell_type": "code",
   "execution_count": null,
   "metadata": {
    "scrolled": true
   },
   "outputs": [],
   "source": [
    "support = .3\n",
    "ones = []\n",
    "for i in items:\n",
    "    if float(len(items[i]))/numtrans > support:\n",
    "        ones.append(i)\n",
    "print ones"
   ]
  },
  {
   "cell_type": "markdown",
   "metadata": {},
   "source": [
    "#### Frequent item-sets of two using only items from frequent item-sets of one"
   ]
  },
  {
   "cell_type": "code",
   "execution_count": null,
   "metadata": {
    "scrolled": true
   },
   "outputs": [],
   "source": [
    "support = .3\n",
    "twos = []\n",
    "for i1 in ones:\n",
    "    for i2 in ones:\n",
    "        if i1 < i2:\n",
    "            common = len(set(items[i1]) & set(items[i2]))\n",
    "            if float(common)/numtrans > support:\n",
    "                twos.append([i1, i2])\n",
    "print twos"
   ]
  },
  {
   "cell_type": "markdown",
   "metadata": {},
   "source": [
    "#### Frequent item-sets of three using only items from frequent item-sets of two and one (see what's wrong and fix it)"
   ]
  },
  {
   "cell_type": "code",
   "execution_count": null,
   "metadata": {
    "scrolled": true
   },
   "outputs": [],
   "source": [
    "support = .3\n",
    "for one in ones:\n",
    "    for two in twos:\n",
    "        if one not in two:\n",
    "            common = len(set(items[one]) & set(items[two[0]]) & set(items[two[1]]))\n",
    "            if float(common)/numtrans > support:\n",
    "                print one, '|', two[0], '|', two[1]"
   ]
  },
  {
   "cell_type": "markdown",
   "metadata": {},
   "source": [
    "### Association rules with one item on the left-hand side"
   ]
  },
  {
   "cell_type": "markdown",
   "metadata": {},
   "source": [
    "#### First compute frequent item-sets of one item, as candidate left-hand sides of assocation rules. Include the number of transactions the items occur in."
   ]
  },
  {
   "cell_type": "code",
   "execution_count": null,
   "metadata": {
    "scrolled": true
   },
   "outputs": [],
   "source": [
    "support = .5\n",
    "frequentLHS = []\n",
    "for i in items:\n",
    "    if float(len(items[i]))/numtrans > support:\n",
    "        frequentLHS.append([i,len(items[i])])\n",
    "print frequentLHS"
   ]
  },
  {
   "cell_type": "markdown",
   "metadata": {},
   "source": [
    "#### Now find right-hand side items with sufficient confidence (see what's wrong and fix it)"
   ]
  },
  {
   "cell_type": "code",
   "execution_count": null,
   "metadata": {
    "scrolled": true
   },
   "outputs": [],
   "source": [
    "confidence = .5\n",
    "for lhs in frequentLHS:\n",
    "    for i in items:\n",
    "        common = len(set(items[lhs[0]]) & set(items[i]))\n",
    "        if float(common)/lhs[1] > confidence:\n",
    "            print lhs[0], '->', i"
   ]
  },
  {
   "cell_type": "markdown",
   "metadata": {},
   "source": [
    "### Association rules with two items on the left-hand side"
   ]
  },
  {
   "cell_type": "markdown",
   "metadata": {},
   "source": [
    "#### First compute frequent item-sets of two items, as candidate left-hand sides of assocation rules. Include the number of transactions the items occur in."
   ]
  },
  {
   "cell_type": "code",
   "execution_count": null,
   "metadata": {
    "scrolled": true
   },
   "outputs": [],
   "source": [
    "support = .5\n",
    "frequentLHS = []\n",
    "for i1 in items:\n",
    "    for i2 in items:\n",
    "        if i1 < i2:\n",
    "            common = len(set(items[i1]) & set(items[i2]))\n",
    "            if float(common)/numtrans > support:\n",
    "                frequentLHS.append([i1,i2,common])\n",
    "print frequentLHS"
   ]
  },
  {
   "cell_type": "markdown",
   "metadata": {},
   "source": [
    "#### Now find right-hand side items with sufficient confidence"
   ]
  },
  {
   "cell_type": "code",
   "execution_count": null,
   "metadata": {
    "scrolled": true
   },
   "outputs": [],
   "source": [
    "confidence = .5\n",
    "for lhs in frequentLHS:\n",
    "    for i in items:\n",
    "        if i not in lhs:\n",
    "            common = len(set(items[lhs[0]]) & set(items[lhs[1]]) & set(items[i]))\n",
    "            if float(common)/lhs[2] > confidence:\n",
    "                print lhs[0], '|', lhs[1], '->', i"
   ]
  },
  {
   "cell_type": "markdown",
   "metadata": {},
   "source": [
    "## Association rules with lift instead of confidence"
   ]
  },
  {
   "cell_type": "markdown",
   "metadata": {},
   "source": [
    "### Association rules with one item on the left-hand side"
   ]
  },
  {
   "cell_type": "markdown",
   "metadata": {},
   "source": [
    "#### First compute frequent item-sets of one item, as candidate left-hand sides of assocation rules. Include the number of transactions the items occur in."
   ]
  },
  {
   "cell_type": "code",
   "execution_count": null,
   "metadata": {},
   "outputs": [],
   "source": [
    "support = .5\n",
    "frequentLHS = []\n",
    "for i in items:\n",
    "    if float(len(items[i]))/numtrans > support:\n",
    "        frequentLHS.append([i,len(items[i])])\n",
    "print frequentLHS"
   ]
  },
  {
   "cell_type": "markdown",
   "metadata": {},
   "source": [
    "#### Now find right-hand side items with sufficient lift"
   ]
  },
  {
   "cell_type": "code",
   "execution_count": null,
   "metadata": {},
   "outputs": [],
   "source": [
    "liftthresh = 1\n",
    "for lhs in frequentLHS:\n",
    "    for i in items:\n",
    "        if i not in lhs:\n",
    "            common = len(set(items[lhs[0]]) & set(items[i]))\n",
    "            lift = (float(common)/lhs[1]) / (float(len(items[i]))/numtrans)\n",
    "            if lift > liftthresh:\n",
    "                print lhs[0], '->', i, 'with lift', lift"
   ]
  },
  {
   "cell_type": "markdown",
   "metadata": {},
   "source": [
    "### Association rules with two items on the left-hand side"
   ]
  },
  {
   "cell_type": "markdown",
   "metadata": {},
   "source": [
    "#### First compute frequent item-sets of two items, as candidate left-hand sides of assocation rules. Include the number of transactions the items occur in."
   ]
  },
  {
   "cell_type": "code",
   "execution_count": null,
   "metadata": {},
   "outputs": [],
   "source": [
    "support = .5\n",
    "frequentLHS = []\n",
    "for i1 in items:\n",
    "    for i2 in items:\n",
    "        if i1 < i2:\n",
    "            common = len(set(items[i1]) & set(items[i2]))\n",
    "            if float(common)/numtrans > support:\n",
    "                frequentLHS.append([i1,i2,common])\n",
    "print frequentLHS"
   ]
  },
  {
   "cell_type": "markdown",
   "metadata": {},
   "source": [
    "#### Now find right-hand side items with sufficient lift"
   ]
  },
  {
   "cell_type": "code",
   "execution_count": null,
   "metadata": {},
   "outputs": [],
   "source": [
    "liftthresh = 1\n",
    "for lhs in frequentLHS:\n",
    "    for i in items:\n",
    "        if i not in lhs:\n",
    "            common = len(set(items[lhs[0]]) & set(items[lhs[1]]) & set(items[i]))\n",
    "            lift = (float(common)/lhs[2]) / (float(len(items[i]))/numtrans)\n",
    "            if lift > 1:\n",
    "                print lhs[0], '|', lhs[1], '->', i, 'with lift', lift"
   ]
  }
 ],
 "metadata": {
  "kernelspec": {
   "display_name": "Python 3",
   "language": "python",
   "name": "python3"
  },
  "language_info": {
   "codemirror_mode": {
    "name": "ipython",
    "version": 3
   },
   "file_extension": ".py",
   "mimetype": "text/x-python",
   "name": "python",
   "nbconvert_exporter": "python",
   "pygments_lexer": "ipython3",
   "version": "3.7.4"
  }
 },
 "nbformat": 4,
 "nbformat_minor": 1
}
