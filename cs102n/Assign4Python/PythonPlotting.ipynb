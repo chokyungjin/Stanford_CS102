{
 "cells": [
  {
   "cell_type": "markdown",
   "metadata": {},
   "source": [
    "### CS102: Plotting in Python using matplotlib.pyplot"
   ]
  },
  {
   "cell_type": "code",
   "execution_count": null,
   "metadata": {},
   "outputs": [],
   "source": [
    "import csv\n",
    "import numpy as np\n",
    "import matplotlib.pyplot as plt\n",
    "%matplotlib inline"
   ]
  },
  {
   "cell_type": "code",
   "execution_count": null,
   "metadata": {},
   "outputs": [],
   "source": [
    "# For compatibility across multiple platforms\n",
    "import os\n",
    "IB = os.environ.get('INSTABASE_URI',None) is not None\n",
    "open = ib.open if IB else open"
   ]
  },
  {
   "cell_type": "code",
   "execution_count": null,
   "metadata": {},
   "outputs": [],
   "source": [
    "# Read Cities.csv and Countries.csv into lists of dictionaries\n",
    "cities = []\n",
    "with open('Cities.csv','rU') as f:\n",
    "    rows = csv.DictReader(f)\n",
    "    for r in rows:\n",
    "        cities.append(r)\n",
    "countries = []\n",
    "with open('Countries.csv','rU') as f:\n",
    "    rows = csv.DictReader(f)\n",
    "    for r in rows:\n",
    "        countries.append(r)"
   ]
  },
  {
   "cell_type": "code",
   "execution_count": null,
   "metadata": {},
   "outputs": [],
   "source": [
    "# Introduction to scatterplots\n",
    "x = [1, 2, 4, 6, 9]\n",
    "y = [4, 5, 2, 7, 5]\n",
    "plt.scatter(x, y)\n",
    "plt.show()"
   ]
  },
  {
   "cell_type": "code",
   "execution_count": null,
   "metadata": {},
   "outputs": [],
   "source": [
    "# Scatterplot of temperature (y) versus latitude (x)\n",
    "x = []\n",
    "y = []\n",
    "for city in cities:\n",
    "    x.append(float(city['latitude']))\n",
    "    y.append(float(city['temperature']))\n",
    "plt.scatter(x, y)\n",
    "plt.show()\n",
    "# Add labels to axes\n",
    "# plt.xlabel('latitude')\n",
    "# plt.ylabel('temperature')"
   ]
  },
  {
   "cell_type": "code",
   "execution_count": null,
   "metadata": {},
   "outputs": [],
   "source": [
    "# Scatterplot of latitude (y) versus longitude (x) colored by temperature\n",
    "x = []\n",
    "y = []\n",
    "colors = []\n",
    "for city in cities:\n",
    "    x.append(float(city['longitude']))\n",
    "    y.append(float(city['latitude']))\n",
    "    if float(city['temperature']) < 7:\n",
    "        colors.append('blue')\n",
    "    elif float(city['temperature']) < 11:\n",
    "        colors.append('red')\n",
    "    else: colors.append('yellow')\n",
    "plt.xlabel('longitude')\n",
    "plt.ylabel('latitude')\n",
    "plt.scatter(x, y, c=colors)\n",
    "plt.show()"
   ]
  },
  {
   "cell_type": "markdown",
   "metadata": {},
   "source": [
    "### <font color=\"green\">Your Turn</font>"
   ]
  },
  {
   "cell_type": "code",
   "execution_count": null,
   "metadata": {},
   "outputs": [],
   "source": [
    "# Create a scatterplot of latitude (y) versus longitude (x) colored by\n",
    "# whether or not the city is in the EU\n",
    "#\n",
    "YOUR CODE HERE"
   ]
  },
  {
   "cell_type": "code",
   "execution_count": null,
   "metadata": {},
   "outputs": [],
   "source": [
    "# Introduction to bar charts\n",
    "bars = ['Bar1', 'Bar2', 'Bar3']\n",
    "heights = [2, 6, 4]\n",
    "plt.xticks([0,1,2], bars)\n",
    "plt.bar([0,1,2], heights)\n",
    "plt.show()"
   ]
  },
  {
   "cell_type": "code",
   "execution_count": null,
   "metadata": {},
   "outputs": [],
   "source": [
    "# Bar chart showing populations of countries with 'ia' in their name\n",
    "bars = [] # countries with 'ia' in their name\n",
    "heights = [] # population of those countries\n",
    "for country in countries:\n",
    "    if 'ia' in country['country']:\n",
    "        bars.append(country['country'])\n",
    "        heights.append(float(country['population']))\n",
    "numbars = len(bars)\n",
    "# range(numbars) in following command yields [0,1,...,numbars-1]\n",
    "plt.xticks(range(numbars), bars, rotation='vertical')\n",
    "plt.bar(range(numbars), heights)\n",
    "plt.xlabel('country')\n",
    "plt.ylabel('population')\n",
    "plt.show()"
   ]
  },
  {
   "cell_type": "markdown",
   "metadata": {},
   "source": [
    "### <font color=\"green\">Your Turn</font>"
   ]
  },
  {
   "cell_type": "code",
   "execution_count": null,
   "metadata": {},
   "outputs": [],
   "source": [
    "# Create a bar chart showing the number of countries with and without coastline\n",
    "#\n",
    "YOUR CODE HERE"
   ]
  },
  {
   "cell_type": "code",
   "execution_count": null,
   "metadata": {},
   "outputs": [],
   "source": [
    "# Introduction to pie charts\n",
    "sizes = [10, 20, 30]\n",
    "lbls = ['small', 'medium', 'large']\n",
    "plt.pie(sizes, labels=lbls, autopct='%1.1f%%')\n",
    "plt.show()"
   ]
  },
  {
   "cell_type": "code",
   "execution_count": null,
   "metadata": {},
   "outputs": [],
   "source": [
    "# Pie chart showing number of EU countries versus non-EU countries\n",
    "numEU = 0\n",
    "numNotEU = 0\n",
    "for country in countries:\n",
    "    if country['EU'] == 'yes':\n",
    "        numEU += 1\n",
    "    else:\n",
    "        numNotEU +=1\n",
    "sizes = [numEU, numNotEU]\n",
    "lbls = ['EU', 'not EU']\n",
    "plt.pie(sizes, labels=lbls, autopct='%1.1f%%')\n",
    "plt.show()"
   ]
  },
  {
   "cell_type": "markdown",
   "metadata": {},
   "source": [
    "### <font color=\"green\">Your Turn</font>"
   ]
  },
  {
   "cell_type": "code",
   "execution_count": null,
   "metadata": {},
   "outputs": [],
   "source": [
    "# Create a pie chart showing the relative number of cities that are\n",
    "# cold (temp < 8), warm (8 <= temp < 12), and hot (temp >= 12).\n",
    "#\n",
    "YOUR CODE HERE"
   ]
  }
 ],
 "metadata": {
  "kernelspec": {
   "display_name": "Python 2",
   "language": "python",
   "name": "python2"
  },
  "language_info": {
   "codemirror_mode": {
    "name": "ipython",
    "version": 2
   },
   "file_extension": ".py",
   "mimetype": "text/x-python",
   "name": "python",
   "nbconvert_exporter": "python",
   "pygments_lexer": "ipython2",
   "version": "2.7.14"
  }
 },
 "nbformat": 4,
 "nbformat_minor": 1
}
