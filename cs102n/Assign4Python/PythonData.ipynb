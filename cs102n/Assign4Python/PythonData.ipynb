{
 "cells": [
  {
   "cell_type": "markdown",
   "metadata": {},
   "source": [
    "### CS102: Data Manipulation in Python"
   ]
  },
  {
   "cell_type": "markdown",
   "metadata": {},
   "source": [
    "### Reading data from CSV files using csv package"
   ]
  },
  {
   "cell_type": "code",
   "execution_count": null,
   "metadata": {},
   "outputs": [],
   "source": [
    "import csv"
   ]
  },
  {
   "cell_type": "code",
   "execution_count": null,
   "metadata": {},
   "outputs": [],
   "source": [
    "# For compatibility across multiple platforms\n",
    "import os\n",
    "IB = os.environ.get('INSTABASE_URI',None) is not None\n",
    "open = ib.open if IB else open"
   ]
  },
  {
   "cell_type": "code",
   "execution_count": null,
   "metadata": {},
   "outputs": [],
   "source": [
    "# Read Cities.csv data into default list format and print all rows\n",
    "# Make sure data file is in same folder as notebook\n",
    "# Note all values are read as strings\n",
    "with open('Cities.csv','rU') as f:\n",
    "    rows = csv.reader(f)\n",
    "    for r in rows:\n",
    "        print r"
   ]
  },
  {
   "cell_type": "code",
   "execution_count": null,
   "metadata": {},
   "outputs": [],
   "source": [
    "# Same as previous except use dictionary format\n",
    "with open('Cities.csv','rU') as f:\n",
    "    rows = csv.DictReader(f)\n",
    "    for r in rows:\n",
    "        print r"
   ]
  },
  {
   "cell_type": "code",
   "execution_count": null,
   "metadata": {},
   "outputs": [],
   "source": [
    "# Print the city and longitude of all cities with longitude < 0\n",
    "# Use dictionary format\n",
    "with open('Cities.csv','rU') as f:\n",
    "    rows = csv.DictReader(f)\n",
    "    for r in rows:\n",
    "        if float(r['longitude']) < 0:\n",
    "            print r['city'], r['longitude']\n",
    "# Show what happens without float()"
   ]
  },
  {
   "cell_type": "code",
   "execution_count": null,
   "metadata": {},
   "outputs": [],
   "source": [
    "# Same but using list format\n",
    "with open('Cities.csv','rU') as f:\n",
    "    rows = csv.reader(f)\n",
    "    next(rows) # discard header row\n",
    "    for r in rows:\n",
    "        if float(r[3]) < 0:\n",
    "            print r[0], r[3]\n",
    "# Show what happens without next(rows)"
   ]
  },
  {
   "cell_type": "markdown",
   "metadata": {},
   "source": [
    "### <font color=\"green\">Your Turn</font>"
   ]
  },
  {
   "cell_type": "code",
   "execution_count": null,
   "metadata": {},
   "outputs": [],
   "source": [
    "# Using Countries.csv and reading in dictionary format, find\n",
    "# all countries that have coastline and are not in the EU.\n",
    "# Print the countries and their populations.\n",
    "YOUR CODE HERE"
   ]
  },
  {
   "cell_type": "markdown",
   "metadata": {},
   "source": [
    "### Reading data into Python data structures"
   ]
  },
  {
   "cell_type": "code",
   "execution_count": null,
   "metadata": {},
   "outputs": [],
   "source": [
    "# Read Cities.csv data into list of dictionaries\n",
    "cities = []\n",
    "with open('Cities.csv','rU') as f:\n",
    "    rows = csv.DictReader(f)\n",
    "    for r in rows:\n",
    "        cities.append(r)\n",
    "    print cities"
   ]
  },
  {
   "cell_type": "code",
   "execution_count": null,
   "metadata": {},
   "outputs": [],
   "source": [
    "# Print the city and longitude of all cities with longitude < 0\n",
    "for city in cities:\n",
    "    if float(city['longitude']) < 0:\n",
    "        print city['city'], city['longitude']"
   ]
  },
  {
   "cell_type": "code",
   "execution_count": null,
   "metadata": {},
   "outputs": [],
   "source": [
    "# Print each city and whether in EU\n",
    "# Must join cities with countries\n",
    "# First read Countries.csv data int list of dictionaries\n",
    "countries = []\n",
    "with open('Countries.csv','rU') as f:\n",
    "    rows = csv.DictReader(f)\n",
    "    for r in rows:\n",
    "        countries.append(r)\n",
    "print countries"
   ]
  },
  {
   "cell_type": "code",
   "execution_count": null,
   "metadata": {},
   "outputs": [],
   "source": [
    "# Now perform join\n",
    "for city in cities:\n",
    "    for country in countries:\n",
    "        if city['country'] == country['country']:\n",
    "            print city['city'], country['EU']\n",
    "# add 'break' command to for-loop\n",
    "# swap cities and countries"
   ]
  },
  {
   "cell_type": "code",
   "execution_count": null,
   "metadata": {},
   "outputs": [],
   "source": [
    "# Compute overall average city temperature\n",
    "temps = [] # create list of all temperatures\n",
    "for city in cities:\n",
    "    temps.append(float(city['temperature'])) \n",
    "print sum(temps)/len(temps)"
   ]
  },
  {
   "cell_type": "markdown",
   "metadata": {},
   "source": [
    "### Computing average directly using NumPy package"
   ]
  },
  {
   "cell_type": "code",
   "execution_count": null,
   "metadata": {},
   "outputs": [],
   "source": [
    "import numpy as np"
   ]
  },
  {
   "cell_type": "code",
   "execution_count": null,
   "metadata": {},
   "outputs": [],
   "source": [
    "# Compute overall average city temperature - now using np.average\n",
    "temps = [] # create list of all temperatures\n",
    "for city in cities:\n",
    "    temps.append(float(city['temperature'])) \n",
    "print np.average(temps)"
   ]
  },
  {
   "cell_type": "code",
   "execution_count": null,
   "metadata": {},
   "outputs": [],
   "source": [
    "# Compute average city temperature for each country\n",
    "# First compute list of countries\n",
    "countryList = []\n",
    "for city in cities:\n",
    "    if city['country'] not in countryList:\n",
    "        countryList.append(city['country'])\n",
    "# Then compute average temperature for each\n",
    "for country in countryList:\n",
    "    temps = []\n",
    "    for city in cities:\n",
    "        if city['country'] == country:\n",
    "            temps.append(float(city['temperature']))\n",
    "    print country, np.average(temps)"
   ]
  },
  {
   "cell_type": "code",
   "execution_count": null,
   "metadata": {},
   "outputs": [],
   "source": [
    "# Or use Countries data\n",
    "for country in countries:\n",
    "    temps = []\n",
    "    for city in cities:\n",
    "        if city['country'] == country['country']:\n",
    "            temps.append(float(city['temperature']))\n",
    "    if len(temps) > 0:\n",
    "        print country['country'], np.average(temps)\n",
    "# Add else: print country['country'], '- NO CITIES'"
   ]
  },
  {
   "cell_type": "markdown",
   "metadata": {},
   "source": [
    "### <font color=\"green\">Your Turn</font>"
   ]
  },
  {
   "cell_type": "code",
   "execution_count": null,
   "metadata": {
    "scrolled": true
   },
   "outputs": [],
   "source": [
    "# Determine the average temperature for EU cities and the average\n",
    "# temperature for non-EU cities, before and after \"Brexit\". That is,\n",
    "# for one pair of averages assume the United Kingdom is in the EU,\n",
    "# and for the other pair assume the United Kingdom is not in the EU.\n",
    "# Print the four numbers and make sure to label which is which!\n",
    "#\n",
    "# Recommended data structures:\n",
    "#\n",
    "UK = [] # temperatures of cities in the United Kingdom\n",
    "EU = [] # temperatures of cities in an EU country other than the United Kingdom\n",
    "nonEU = [] # temperatures of cities in a non-EU country other than the UK\n",
    "#\n",
    "# Hint: Start with code in earlier example for joining cities and countries\n",
    "# Hint: Remember you can combine two lists using \"+\"\n",
    "# Note: Less than 10 lines of code are needed, not counting printing and\n",
    "# assuming cities and countries data has already been loaded into lists.\n",
    "YOUR CODE HERE"
   ]
  },
  {
   "cell_type": "markdown",
   "metadata": {},
   "source": [
    "### Minimum and maximum"
   ]
  },
  {
   "cell_type": "code",
   "execution_count": null,
   "metadata": {},
   "outputs": [],
   "source": [
    "# Overall minimum and maximum temperatures\n",
    "temps = [] # create list of all temperatures\n",
    "for city in cities:\n",
    "    temps.append(float(city['temperature'])) \n",
    "print 'Minimum:', min(temps)\n",
    "print 'Maximum:', max(temps)"
   ]
  },
  {
   "cell_type": "code",
   "execution_count": null,
   "metadata": {},
   "outputs": [],
   "source": [
    "# Alternative method\n",
    "minval = 100.00 # greater than any possible minimum\n",
    "maxval = -100.00 # smaller than any possible maximum\n",
    "for city in cities:\n",
    "    if float(city['temperature']) < minval:\n",
    "        minval = float(city['temperature'])\n",
    "    if float(city['temperature']) > maxval:\n",
    "        maxval = float(city['temperature'])\n",
    "print 'Minimum:', minval\n",
    "print 'Maximum:', maxval"
   ]
  },
  {
   "cell_type": "markdown",
   "metadata": {},
   "source": [
    "### <font color=\"green\">Your Turn</font>"
   ]
  },
  {
   "cell_type": "code",
   "execution_count": null,
   "metadata": {
    "scrolled": true
   },
   "outputs": [],
   "source": [
    "# Determine which country has the lowest average city temperature\n",
    "# and which country has the highest average city temperature.\n",
    "# Print the two countries and their average temperatures.\n",
    "# Hint: Start with code above that computes average temperatures\n",
    "# for each country, then incorporate the running min/max method.\n",
    "#\n",
    "YOUR CODE HERE"
   ]
  }
 ],
 "metadata": {
  "kernelspec": {
   "display_name": "Python 2",
   "language": "python",
   "name": "python2"
  },
  "language_info": {
   "codemirror_mode": {
    "name": "ipython",
    "version": 2
   },
   "file_extension": ".py",
   "mimetype": "text/x-python",
   "name": "python",
   "nbconvert_exporter": "python",
   "pygments_lexer": "ipython2",
   "version": "2.7.14"
  }
 },
 "nbformat": 4,
 "nbformat_minor": 1
}
